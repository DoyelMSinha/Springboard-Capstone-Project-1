{
 "cells": [
  {
   "cell_type": "markdown",
   "metadata": {
    "scrolled": true
   },
   "source": [
    "# Project : Predict the Price of Airbnb rooms "
   ]
  },
  {
   "cell_type": "markdown",
   "metadata": {},
   "source": [
    "#### Objective: Predict the price of rooms to be advertised on the Airbnb site. The prediction is based on different attributes like neighborhood, number of rooms, number of reviews, availibility of the rooms. The dataset is obtained from historic Airbnb data obtained from Airbnb site."
   ]
  },
  {
   "cell_type": "markdown",
   "metadata": {},
   "source": [
    "## Analyze the data"
   ]
  },
  {
   "cell_type": "markdown",
   "metadata": {},
   "source": [
    "### Step 1: Read CSV file with Airbnb data downloaded from http://insideairbnb.com/get-the-data.html"
   ]
  },
  {
   "cell_type": "code",
   "execution_count": 1,
   "metadata": {
    "scrolled": false
   },
   "outputs": [
    {
     "name": "stdout",
     "output_type": "stream",
     "text": [
      "Populating the interactive namespace from numpy and matplotlib\n"
     ]
    }
   ],
   "source": [
    "import pandas as pd\n",
    "import matplotlib.pyplot as plt\n",
    "import numpy as np\n",
    "%pylab inline\n",
    "df = pd.read_csv('/Users/doyelm/Documents/Project/listings.csv')\n",
    "\n"
   ]
  },
  {
   "cell_type": "markdown",
   "metadata": {},
   "source": [
    "### Step2: Study the data"
   ]
  },
  {
   "cell_type": "code",
   "execution_count": 2,
   "metadata": {},
   "outputs": [
    {
     "name": "stdout",
     "output_type": "stream",
     "text": [
      "<class 'pandas.core.frame.DataFrame'>\n",
      "RangeIndex: 9663 entries, 0 to 9662\n",
      "Data columns (total 16 columns):\n",
      "id                                9663 non-null int64\n",
      "name                              9663 non-null object\n",
      "host_id                           9663 non-null int64\n",
      "host_name                         9661 non-null object\n",
      "neighbourhood_group               0 non-null float64\n",
      "neighbourhood                     9663 non-null int64\n",
      "latitude                          9663 non-null float64\n",
      "longitude                         9663 non-null float64\n",
      "room_type                         9663 non-null object\n",
      "price                             9663 non-null int64\n",
      "minimum_nights                    9663 non-null int64\n",
      "number_of_reviews                 9663 non-null int64\n",
      "last_review                       6006 non-null object\n",
      "reviews_per_month                 6007 non-null float64\n",
      "calculated_host_listings_count    9663 non-null int64\n",
      "availability_365                  9663 non-null int64\n",
      "dtypes: float64(4), int64(8), object(4)\n",
      "memory usage: 1.2+ MB\n"
     ]
    }
   ],
   "source": [
    "df.info()"
   ]
  },
  {
   "cell_type": "code",
   "execution_count": 3,
   "metadata": {
    "scrolled": false
   },
   "outputs": [
    {
     "data": {
      "text/html": [
       "<div>\n",
       "<style scoped>\n",
       "    .dataframe tbody tr th:only-of-type {\n",
       "        vertical-align: middle;\n",
       "    }\n",
       "\n",
       "    .dataframe tbody tr th {\n",
       "        vertical-align: top;\n",
       "    }\n",
       "\n",
       "    .dataframe thead th {\n",
       "        text-align: right;\n",
       "    }\n",
       "</style>\n",
       "<table border=\"1\" class=\"dataframe\">\n",
       "  <thead>\n",
       "    <tr style=\"text-align: right;\">\n",
       "      <th></th>\n",
       "      <th>id</th>\n",
       "      <th>host_id</th>\n",
       "      <th>neighbourhood_group</th>\n",
       "      <th>neighbourhood</th>\n",
       "      <th>latitude</th>\n",
       "      <th>longitude</th>\n",
       "      <th>price</th>\n",
       "      <th>minimum_nights</th>\n",
       "      <th>number_of_reviews</th>\n",
       "      <th>reviews_per_month</th>\n",
       "      <th>calculated_host_listings_count</th>\n",
       "      <th>availability_365</th>\n",
       "    </tr>\n",
       "  </thead>\n",
       "  <tbody>\n",
       "    <tr>\n",
       "      <th>count</th>\n",
       "      <td>9.663000e+03</td>\n",
       "      <td>9.663000e+03</td>\n",
       "      <td>0.0</td>\n",
       "      <td>9663.000000</td>\n",
       "      <td>9663.000000</td>\n",
       "      <td>9663.000000</td>\n",
       "      <td>9663.000000</td>\n",
       "      <td>9663.000000</td>\n",
       "      <td>9663.000000</td>\n",
       "      <td>6007.000000</td>\n",
       "      <td>9663.000000</td>\n",
       "      <td>9663.000000</td>\n",
       "    </tr>\n",
       "    <tr>\n",
       "      <th>mean</th>\n",
       "      <td>9.655724e+06</td>\n",
       "      <td>2.907623e+07</td>\n",
       "      <td>NaN</td>\n",
       "      <td>78722.467764</td>\n",
       "      <td>30.276059</td>\n",
       "      <td>-97.751336</td>\n",
       "      <td>292.788471</td>\n",
       "      <td>2.419021</td>\n",
       "      <td>13.917313</td>\n",
       "      <td>1.359161</td>\n",
       "      <td>3.673704</td>\n",
       "      <td>167.370071</td>\n",
       "    </tr>\n",
       "    <tr>\n",
       "      <th>std</th>\n",
       "      <td>5.702724e+06</td>\n",
       "      <td>3.111086e+07</td>\n",
       "      <td>NaN</td>\n",
       "      <td>20.714283</td>\n",
       "      <td>0.054293</td>\n",
       "      <td>0.052304</td>\n",
       "      <td>443.171455</td>\n",
       "      <td>5.808939</td>\n",
       "      <td>33.274246</td>\n",
       "      <td>1.675813</td>\n",
       "      <td>9.636083</td>\n",
       "      <td>148.704061</td>\n",
       "    </tr>\n",
       "    <tr>\n",
       "      <th>min</th>\n",
       "      <td>1.078000e+03</td>\n",
       "      <td>2.300000e+01</td>\n",
       "      <td>NaN</td>\n",
       "      <td>78701.000000</td>\n",
       "      <td>30.114882</td>\n",
       "      <td>-98.053553</td>\n",
       "      <td>0.000000</td>\n",
       "      <td>1.000000</td>\n",
       "      <td>0.000000</td>\n",
       "      <td>0.010000</td>\n",
       "      <td>1.000000</td>\n",
       "      <td>0.000000</td>\n",
       "    </tr>\n",
       "    <tr>\n",
       "      <th>25%</th>\n",
       "      <td>4.849021e+06</td>\n",
       "      <td>4.689866e+06</td>\n",
       "      <td>NaN</td>\n",
       "      <td>78704.000000</td>\n",
       "      <td>30.244039</td>\n",
       "      <td>-97.769482</td>\n",
       "      <td>89.000000</td>\n",
       "      <td>1.000000</td>\n",
       "      <td>0.000000</td>\n",
       "      <td>0.240000</td>\n",
       "      <td>1.000000</td>\n",
       "      <td>9.000000</td>\n",
       "    </tr>\n",
       "    <tr>\n",
       "      <th>50%</th>\n",
       "      <td>1.036768e+07</td>\n",
       "      <td>1.738394e+07</td>\n",
       "      <td>NaN</td>\n",
       "      <td>78721.000000</td>\n",
       "      <td>30.266359</td>\n",
       "      <td>-97.744387</td>\n",
       "      <td>160.000000</td>\n",
       "      <td>2.000000</td>\n",
       "      <td>2.000000</td>\n",
       "      <td>0.740000</td>\n",
       "      <td>1.000000</td>\n",
       "      <td>133.000000</td>\n",
       "    </tr>\n",
       "    <tr>\n",
       "      <th>75%</th>\n",
       "      <td>1.518828e+07</td>\n",
       "      <td>4.427075e+07</td>\n",
       "      <td>NaN</td>\n",
       "      <td>78745.000000</td>\n",
       "      <td>30.298177</td>\n",
       "      <td>-97.722401</td>\n",
       "      <td>340.000000</td>\n",
       "      <td>2.000000</td>\n",
       "      <td>12.000000</td>\n",
       "      <td>1.830000</td>\n",
       "      <td>2.000000</td>\n",
       "      <td>339.000000</td>\n",
       "    </tr>\n",
       "    <tr>\n",
       "      <th>max</th>\n",
       "      <td>1.759094e+07</td>\n",
       "      <td>1.195162e+08</td>\n",
       "      <td>NaN</td>\n",
       "      <td>78759.000000</td>\n",
       "      <td>30.506688</td>\n",
       "      <td>-97.560622</td>\n",
       "      <td>10000.000000</td>\n",
       "      <td>250.000000</td>\n",
       "      <td>427.000000</td>\n",
       "      <td>12.000000</td>\n",
       "      <td>73.000000</td>\n",
       "      <td>365.000000</td>\n",
       "    </tr>\n",
       "  </tbody>\n",
       "</table>\n",
       "</div>"
      ],
      "text/plain": [
       "                 id       host_id  neighbourhood_group  neighbourhood  \\\n",
       "count  9.663000e+03  9.663000e+03                  0.0    9663.000000   \n",
       "mean   9.655724e+06  2.907623e+07                  NaN   78722.467764   \n",
       "std    5.702724e+06  3.111086e+07                  NaN      20.714283   \n",
       "min    1.078000e+03  2.300000e+01                  NaN   78701.000000   \n",
       "25%    4.849021e+06  4.689866e+06                  NaN   78704.000000   \n",
       "50%    1.036768e+07  1.738394e+07                  NaN   78721.000000   \n",
       "75%    1.518828e+07  4.427075e+07                  NaN   78745.000000   \n",
       "max    1.759094e+07  1.195162e+08                  NaN   78759.000000   \n",
       "\n",
       "          latitude    longitude         price  minimum_nights  \\\n",
       "count  9663.000000  9663.000000   9663.000000     9663.000000   \n",
       "mean     30.276059   -97.751336    292.788471        2.419021   \n",
       "std       0.054293     0.052304    443.171455        5.808939   \n",
       "min      30.114882   -98.053553      0.000000        1.000000   \n",
       "25%      30.244039   -97.769482     89.000000        1.000000   \n",
       "50%      30.266359   -97.744387    160.000000        2.000000   \n",
       "75%      30.298177   -97.722401    340.000000        2.000000   \n",
       "max      30.506688   -97.560622  10000.000000      250.000000   \n",
       "\n",
       "       number_of_reviews  reviews_per_month  calculated_host_listings_count  \\\n",
       "count        9663.000000        6007.000000                     9663.000000   \n",
       "mean           13.917313           1.359161                        3.673704   \n",
       "std            33.274246           1.675813                        9.636083   \n",
       "min             0.000000           0.010000                        1.000000   \n",
       "25%             0.000000           0.240000                        1.000000   \n",
       "50%             2.000000           0.740000                        1.000000   \n",
       "75%            12.000000           1.830000                        2.000000   \n",
       "max           427.000000          12.000000                       73.000000   \n",
       "\n",
       "       availability_365  \n",
       "count       9663.000000  \n",
       "mean         167.370071  \n",
       "std          148.704061  \n",
       "min            0.000000  \n",
       "25%            9.000000  \n",
       "50%          133.000000  \n",
       "75%          339.000000  \n",
       "max          365.000000  "
      ]
     },
     "execution_count": 3,
     "metadata": {},
     "output_type": "execute_result"
    }
   ],
   "source": [
    "df.describe()"
   ]
  },
  {
   "cell_type": "code",
   "execution_count": 14,
   "metadata": {},
   "outputs": [
    {
     "name": "stdout",
     "output_type": "stream",
     "text": [
      "mean 292.78847148918555\n",
      "standard dev 443.17145541916176\n",
      "Median 160.0\n",
      "Mode 0    150\n",
      "dtype: int64\n"
     ]
    }
   ],
   "source": [
    "print(\"mean \"+str(df['price'].mean()))\n",
    "print(\"standard dev \"+str(df['price'].std()))\n",
    "#print(df['price'].quantile())\n",
    "print(\"Median \"+str(df['price'].median()))\n",
    "print(\"Mode \"+str(df['price'].mode()))"
   ]
  },
  {
   "cell_type": "code",
   "execution_count": 16,
   "metadata": {},
   "outputs": [
    {
     "data": {
      "text/html": [
       "<div>\n",
       "<style scoped>\n",
       "    .dataframe tbody tr th:only-of-type {\n",
       "        vertical-align: middle;\n",
       "    }\n",
       "\n",
       "    .dataframe tbody tr th {\n",
       "        vertical-align: top;\n",
       "    }\n",
       "\n",
       "    .dataframe thead th {\n",
       "        text-align: right;\n",
       "    }\n",
       "</style>\n",
       "<table border=\"1\" class=\"dataframe\">\n",
       "  <thead>\n",
       "    <tr style=\"text-align: right;\">\n",
       "      <th></th>\n",
       "      <th>price</th>\n",
       "    </tr>\n",
       "  </thead>\n",
       "  <tbody>\n",
       "    <tr>\n",
       "      <th>count</th>\n",
       "      <td>9663.000000</td>\n",
       "    </tr>\n",
       "    <tr>\n",
       "      <th>mean</th>\n",
       "      <td>292.788471</td>\n",
       "    </tr>\n",
       "    <tr>\n",
       "      <th>std</th>\n",
       "      <td>443.171455</td>\n",
       "    </tr>\n",
       "    <tr>\n",
       "      <th>min</th>\n",
       "      <td>0.000000</td>\n",
       "    </tr>\n",
       "    <tr>\n",
       "      <th>25%</th>\n",
       "      <td>89.000000</td>\n",
       "    </tr>\n",
       "    <tr>\n",
       "      <th>50%</th>\n",
       "      <td>160.000000</td>\n",
       "    </tr>\n",
       "    <tr>\n",
       "      <th>75%</th>\n",
       "      <td>340.000000</td>\n",
       "    </tr>\n",
       "    <tr>\n",
       "      <th>max</th>\n",
       "      <td>10000.000000</td>\n",
       "    </tr>\n",
       "  </tbody>\n",
       "</table>\n",
       "</div>"
      ],
      "text/plain": [
       "              price\n",
       "count   9663.000000\n",
       "mean     292.788471\n",
       "std      443.171455\n",
       "min        0.000000\n",
       "25%       89.000000\n",
       "50%      160.000000\n",
       "75%      340.000000\n",
       "max    10000.000000"
      ]
     },
     "execution_count": 16,
     "metadata": {},
     "output_type": "execute_result"
    }
   ],
   "source": [
    "pd.DataFrame(df['price'].describe())"
   ]
  },
  {
   "cell_type": "markdown",
   "metadata": {},
   "source": [
    "### Plot histogram to determine price range"
   ]
  },
  {
   "cell_type": "code",
   "execution_count": 13,
   "metadata": {
    "scrolled": false
   },
   "outputs": [
    {
     "data": {
      "text/plain": [
       "Text(0.5,0,'price')"
      ]
     },
     "execution_count": 13,
     "metadata": {},
     "output_type": "execute_result"
    },
    {
     "data": {
      "image/png": "[encoded data removed]",
      "text/plain": [
       "<matplotlib.figure.Figure at 0x10e4ad6d8>"
      ]
     },
     "metadata": {},
     "output_type": "display_data"
    }
   ],
   "source": [
    "ax = df['price'].hist()\n",
    "\n",
    "ax.set_title('Price range')\n",
    "\n",
    "df['price'].plot.hist(alpha=0.9)\n",
    "\n",
    "ax.set_ylabel('Number of house')\n",
    "ax.set_xlabel('price')\n",
    "#df['price'].plot.hist(alpha=0.7,bins=50)"
   ]
  },
  {
   "cell_type": "markdown",
   "metadata": {},
   "source": [
    "### Plot histogram to determine price range - on a logarithmic scale"
   ]
  },
  {
   "cell_type": "code",
   "execution_count": 26,
   "metadata": {},
   "outputs": [
    {
     "data": {
      "text/plain": [
       "Text(0.5,1,'Price range on logarithmic scale')"
      ]
     },
     "execution_count": 26,
     "metadata": {},
     "output_type": "execute_result"
    },
    {
     "data": {
      "image/png": "[encoded data removed]",
      "text/plain": [
       "<matplotlib.figure.Figure at 0x10e894f60>"
      ]
     },
     "metadata": {},
     "output_type": "display_data"
    }
   ],
   "source": [
    "ax = df['price'].hist()\n",
    "\n",
    "ax.set_title('Price range')\n",
    "\n",
    "\n",
    "df['price'].plot.hist(alpha=0.9)\n",
    "\n",
    "ax.set_ylabel('Number of house')\n",
    "ax.set_yscale('log')\n",
    "ax.set_xlabel('price')\n",
    "\n",
    "plt.title('Price range on logarithmic scale')"
   ]
  },
  {
   "cell_type": "markdown",
   "metadata": {},
   "source": [
    "### Plot Bar Plot to determine price variation with neighborhood"
   ]
  },
  {
   "cell_type": "code",
   "execution_count": 17,
   "metadata": {
    "scrolled": true
   },
   "outputs": [
    {
     "data": {
      "text/plain": [
       "Text(0.5,0.98,'')"
      ]
     },
     "execution_count": 17,
     "metadata": {},
     "output_type": "execute_result"
    },
    {
     "data": {
      "image/png": "[encoded data removed]",
      "text/plain": [
       "<matplotlib.figure.Figure at 0x10c997710>"
      ]
     },
     "metadata": {},
     "output_type": "display_data"
    }
   ],
   "source": [
    "df.groupby(['neighbourhood' ])[['id']].count().plot(kind='bar').set_ylabel('Count')\n",
    "\n",
    "plt.title('Number of homes by neighbourhood')\n",
    "plt.suptitle(\"\")"
   ]
  },
  {
   "cell_type": "markdown",
   "metadata": {},
   "source": [
    "### Plot whisker plot to determine outliers"
   ]
  },
  {
   "cell_type": "code",
   "execution_count": 20,
   "metadata": {},
   "outputs": [
    {
     "name": "stdout",
     "output_type": "stream",
     "text": [
      "Find outliers for each room type\n",
      "Populating the interactive namespace from numpy and matplotlib\n"
     ]
    },
    {
     "data": {
      "text/plain": [
       "Text(0.5,0.98,'')"
      ]
     },
     "execution_count": 20,
     "metadata": {},
     "output_type": "execute_result"
    },
    {
     "data": {
      "image/png": "[encoded data removed]",
      "text/plain": [
       "<matplotlib.figure.Figure at 0x10cbeca58>"
      ]
     },
     "metadata": {},
     "output_type": "display_data"
    }
   ],
   "source": [
    "print('Find outliers for each room type')\n",
    "import pandas as pd\n",
    "%pylab inline\n",
    "df = pd.read_csv('/Users/doyelm/Documents/Project/listings.csv')\n",
    "\n",
    "df.boxplot(column=['price'], by=['room_type'])\n",
    "plt.title('Find outliers for each room type')\n",
    "plt.suptitle(\"\")"
   ]
  },
  {
   "cell_type": "markdown",
   "metadata": {},
   "source": [
    "### Boxplot without outliers"
   ]
  },
  {
   "cell_type": "code",
   "execution_count": 22,
   "metadata": {
    "scrolled": false
   },
   "outputs": [
    {
     "name": "stdout",
     "output_type": "stream",
     "text": [
      "Remove outliers for each room type\n",
      "Populating the interactive namespace from numpy and matplotlib\n"
     ]
    },
    {
     "data": {
      "text/plain": [
       "Text(0.5,0.98,'')"
      ]
     },
     "execution_count": 22,
     "metadata": {},
     "output_type": "execute_result"
    },
    {
     "data": {
      "image/png": "[encoded data removed]",
      "text/plain": [
       "<matplotlib.figure.Figure at 0x10ea40a58>"
      ]
     },
     "metadata": {},
     "output_type": "display_data"
    }
   ],
   "source": [
    "print('Remove outliers for each room type')\n",
    "import pandas as pd\n",
    "df = pd.read_csv('/Users/doyelm/Documents/Project/listings.csv')\n",
    "%pylab inline\n",
    "\n",
    "\n",
    "df.boxplot(column=['price'], by=['room_type'],showfliers=False)\n",
    "plt.title('Boxplot without outliers  - Price by each room type')\n",
    "plt.suptitle(\"\")"
   ]
  },
  {
   "cell_type": "markdown",
   "metadata": {},
   "source": [
    "### Plot count of each type of room "
   ]
  },
  {
   "cell_type": "code",
   "execution_count": 24,
   "metadata": {},
   "outputs": [
    {
     "data": {
      "text/plain": [
       "Text(0.5,1,'Room Type - Count')"
      ]
     },
     "execution_count": 24,
     "metadata": {},
     "output_type": "execute_result"
    },
    {
     "data": {
      "image/png": "[encoded data removed]",
      "text/plain": [
       "<matplotlib.figure.Figure at 0x10dea2198>"
      ]
     },
     "metadata": {},
     "output_type": "display_data"
    }
   ],
   "source": [
    "df.groupby(['room_type' ])[['id']].count().plot(kind='bar').set_ylabel('Count')\n",
    "plt.title('Room Type - Count')"
   ]
  },
  {
   "cell_type": "markdown",
   "metadata": {},
   "source": [
    "### Check number of last reviews by years to check if most of the data is current"
   ]
  },
  {
   "cell_type": "code",
   "execution_count": 23,
   "metadata": {},
   "outputs": [
    {
     "name": "stdout",
     "output_type": "stream",
     "text": [
      "DatetimeIndex(['2016-05-13', '2013-03-12', '2016-12-20', '2016-06-12',\n",
      "               '2017-02-20', '2017-03-06', '2017-03-03', '2017-01-04',\n",
      "               '2017-03-05', '2016-10-21',\n",
      "               ...\n",
      "               '2017-02-19', '2016-11-11', '2016-12-01', '2017-02-22',\n",
      "               '2017-02-17', '2015-10-28', '2017-02-16', '2017-02-23',\n",
      "               '2017-01-15', '2017-02-25'],\n",
      "              dtype='datetime64[ns]', name='last_review', length=6006, freq=None)\n"
     ]
    },
    {
     "data": {
      "text/plain": [
       "Text(0.5,1,'Number of last reviews by year')"
      ]
     },
     "execution_count": 23,
     "metadata": {},
     "output_type": "execute_result"
    },
    {
     "data": {
      "image/png": "[encoded data removed]",
      "text/plain": [
       "<matplotlib.figure.Figure at 0x10a5ad7b8>"
      ]
     },
     "metadata": {},
     "output_type": "display_data"
    }
   ],
   "source": [
    "from datetime import datetime\n",
    "\n",
    "df = df[df.last_review.notnull()]\n",
    "dates = pd.to_datetime(df.last_review, format='%Y-%m-%d')\n",
    "#print(dates)\n",
    "#df = dates.groupby([pd.TimeGrouper('12M')]) \n",
    "df.set_index(dates,inplace=True)\n",
    "print(df.index)\n",
    "df['number_of_reviews'].resample('6M').sum().plot(kind='bar').set_ylabel('Number of reviews')\n",
    "df['number_of_reviews'].resample('12M').sum().plot(kind='bar').set_ylabel('Number of reviews')\n",
    "plt.yscale('log')\n",
    "plt.title('Number of last reviews by year')"
   ]
  },
  {
   "cell_type": "markdown",
   "metadata": {},
   "source": [
    "### Check location of the homes to check if they are from the same area"
   ]
  },
  {
   "cell_type": "code",
   "execution_count": 25,
   "metadata": {},
   "outputs": [
    {
     "data": {
      "text/plain": [
       "Text(0.5,1,'Number of homes by latitude longitude')"
      ]
     },
     "execution_count": 25,
     "metadata": {},
     "output_type": "execute_result"
    },
    {
     "data": {
      "image/png": "[encoded data removed]",
      "text/plain": [
       "<matplotlib.figure.Figure at 0x10e9d2908>"
      ]
     },
     "metadata": {},
     "output_type": "display_data"
    }
   ],
   "source": [
    "df.plot.scatter('latitude','longitude')\n",
    "plt.title('Number of homes by latitude longitude')"
   ]
  },
  {
   "cell_type": "markdown",
   "metadata": {},
   "source": [
    "## Clean the data"
   ]
  },
  {
   "cell_type": "markdown",
   "metadata": {},
   "source": [
    "### Find how many neighbourgoods have sample > 10"
   ]
  },
  {
   "cell_type": "code",
   "execution_count": 32,
   "metadata": {},
   "outputs": [
    {
     "data": {
      "text/plain": [
       "39"
      ]
     },
     "execution_count": 32,
     "metadata": {},
     "output_type": "execute_result"
    }
   ],
   "source": [
    "df2 = df.groupby(['neighbourhood'])[['id']].count().reset_index()\n",
    " \n",
    "len(df2[df2.id > 10].sort_values('id',ascending=False ) )"
   ]
  },
  {
   "cell_type": "markdown",
   "metadata": {},
   "source": [
    "### Select top 39 neighbourhoods - from above result we see 39 neighbourhoods have sample > 10"
   ]
  },
  {
   "cell_type": "code",
   "execution_count": 5,
   "metadata": {},
   "outputs": [
    {
     "name": "stdout",
     "output_type": "stream",
     "text": [
      "<class 'pandas.core.frame.DataFrame'>\n",
      "Int64Index: 9621 entries, 0 to 9662\n",
      "Data columns (total 8 columns):\n",
      "neighbourhood        9621 non-null object\n",
      "latitude             9621 non-null float64\n",
      "longitude            9621 non-null float64\n",
      "room_type            9621 non-null object\n",
      "price                9621 non-null float64\n",
      "minimum_nights       9621 non-null float64\n",
      "number_of_reviews    9621 non-null float64\n",
      "availability_365     9621 non-null float64\n",
      "dtypes: float64(6), object(2)\n",
      "memory usage: 676.5+ KB\n"
     ]
    }
   ],
   "source": [
    "\n",
    "df_1=df.groupby(['neighbourhood' ])[['id']].count().sort_values(by=['id'], ascending=False)[0:39]\n",
    "\n",
    "# choose data for the neighbourhoods in the list created above\n",
    "df_new = df[df['neighbourhood'].isin(df_1.index.values.tolist())].loc[:, ('neighbourhood', 'latitude','longitude','room_type','price','minimum_nights','number_of_reviews', 'availability_365') ]\n",
    "df_new.fillna(0)   \n",
    "df_new.price=df_new.price.astype(float) \n",
    "df_new.minimum_nights=df_new.minimum_nights.astype(float) \n",
    "df_new.number_of_reviews=df_new.number_of_reviews.astype(float) \n",
    "df_new.availability_365=df_new.availability_365.astype(float) \n",
    "df_new.neighbourhood=df_new.neighbourhood.astype(str) \n",
    " \n",
    "df_new.info()\n",
    " "
   ]
  },
  {
   "cell_type": "markdown",
   "metadata": {},
   "source": [
    "### Check if data exists with price == 0"
   ]
  },
  {
   "cell_type": "code",
   "execution_count": 5,
   "metadata": {},
   "outputs": [
    {
     "data": {
      "text/html": [
       "<div>\n",
       "<style scoped>\n",
       "    .dataframe tbody tr th:only-of-type {\n",
       "        vertical-align: middle;\n",
       "    }\n",
       "\n",
       "    .dataframe tbody tr th {\n",
       "        vertical-align: top;\n",
       "    }\n",
       "\n",
       "    .dataframe thead th {\n",
       "        text-align: right;\n",
       "    }\n",
       "</style>\n",
       "<table border=\"1\" class=\"dataframe\">\n",
       "  <thead>\n",
       "    <tr style=\"text-align: right;\">\n",
       "      <th></th>\n",
       "      <th>id</th>\n",
       "      <th>name</th>\n",
       "      <th>host_id</th>\n",
       "      <th>host_name</th>\n",
       "      <th>neighbourhood_group</th>\n",
       "      <th>neighbourhood</th>\n",
       "      <th>latitude</th>\n",
       "      <th>longitude</th>\n",
       "      <th>room_type</th>\n",
       "      <th>price</th>\n",
       "      <th>minimum_nights</th>\n",
       "      <th>number_of_reviews</th>\n",
       "      <th>last_review</th>\n",
       "      <th>reviews_per_month</th>\n",
       "      <th>calculated_host_listings_count</th>\n",
       "      <th>availability_365</th>\n",
       "    </tr>\n",
       "  </thead>\n",
       "  <tbody>\n",
       "    <tr>\n",
       "      <th>1948</th>\n",
       "      <td>5537445</td>\n",
       "      <td>Hip Complex Close to Downtown</td>\n",
       "      <td>411693</td>\n",
       "      <td>Jonathan</td>\n",
       "      <td>NaN</td>\n",
       "      <td>78741</td>\n",
       "      <td>30.23127</td>\n",
       "      <td>-97.725258</td>\n",
       "      <td>Private room</td>\n",
       "      <td>0</td>\n",
       "      <td>1</td>\n",
       "      <td>0</td>\n",
       "      <td>NaN</td>\n",
       "      <td>NaN</td>\n",
       "      <td>1</td>\n",
       "      <td>0</td>\n",
       "    </tr>\n",
       "  </tbody>\n",
       "</table>\n",
       "</div>"
      ],
      "text/plain": [
       "           id                           name  host_id host_name  \\\n",
       "1948  5537445  Hip Complex Close to Downtown   411693  Jonathan   \n",
       "\n",
       "      neighbourhood_group  neighbourhood  latitude  longitude     room_type  \\\n",
       "1948                  NaN          78741  30.23127 -97.725258  Private room   \n",
       "\n",
       "      price  minimum_nights  number_of_reviews last_review  reviews_per_month  \\\n",
       "1948      0               1                  0         NaN                NaN   \n",
       "\n",
       "      calculated_host_listings_count  availability_365  \n",
       "1948                               1                 0  "
      ]
     },
     "execution_count": 5,
     "metadata": {},
     "output_type": "execute_result"
    }
   ],
   "source": [
    "df[df.price == 0]"
   ]
  },
  {
   "cell_type": "markdown",
   "metadata": {},
   "source": [
    "### convert non-numeric binary variables into binary (0/1) variables. Converts categorical variables into dummy variables."
   ]
  },
  {
   "cell_type": "code",
   "execution_count": 11,
   "metadata": {},
   "outputs": [],
   "source": [
    "\n",
    "def preprocess_features(X):\n",
    "    '''   converts non-numeric binary variables into\n",
    "        binary (0/1) variables. Converts categorical variables into dummy variables. '''\n",
    "\n",
    "    # Initialize new output DataFrame\n",
    "    output = pd.DataFrame(index = X.index)\n",
    "    # Investigate each feature column for the data\n",
    "    for col, col_data in X.iteritems():\n",
    "        #print(col,col_data)\n",
    "        # If data type is non-numeric, replace all yes/no values with 1/0\n",
    "        if col_data.dtype == object:\n",
    "            col_data = col_data.replace(['yes', 'no'], [1, 0])\n",
    "\n",
    "        # If data type is categorical, convert to dummy variables\n",
    "        if col_data.dtype == object:\n",
    "            # Example: 'school' => 'school_GP' and 'school_MS'\n",
    "            col_data = pd.get_dummies(col_data, prefix = col)  \n",
    "        \n",
    "        # Collect the revised columns\n",
    "        output = output.join(col_data)\n",
    "    \n",
    "    return output\n",
    "\n",
    "y =  log( df_new.price+1)#.fillna(0)   \n",
    "\n",
    "X = df_new.loc[:,df_new.columns != 'price'] \n",
    "X_all = preprocess_features(X)\n",
    " \n",
    " \n",
    "\n",
    " "
   ]
  }
 ],
 "metadata": {
  "kernelspec": {
   "display_name": "Python 3",
   "language": "python",
   "name": "python3"
  },
  "language_info": {
   "codemirror_mode": {
    "name": "ipython",
    "version": 3
   },
   "file_extension": ".py",
   "mimetype": "text/x-python",
   "name": "python",
   "nbconvert_exporter": "python",
   "pygments_lexer": "ipython3",
   "version": "3.6.4"
  }
 },
 "nbformat": 4,
 "nbformat_minor": 2
}
