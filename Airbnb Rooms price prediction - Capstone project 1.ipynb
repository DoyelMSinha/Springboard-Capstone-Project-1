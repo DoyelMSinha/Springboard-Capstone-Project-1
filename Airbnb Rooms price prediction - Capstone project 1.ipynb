{
 "cells": [
  {
   "cell_type": "markdown",
   "metadata": {
    "scrolled": true
   },
   "source": [
    "# Project : Predict the Price of Airbnb rooms "
   ]
  },
  {
   "cell_type": "markdown",
   "metadata": {},
   "source": [
    "#### Objective: Predict the price of rooms to be advertised on the Airbnb site. The prediction is based on different attributes like neighborhood, number of rooms, number of reviews, availibility of the rooms. The dataset is obtained from historic Airbnb data obtained from Airbnb site."
   ]
  },
  {
   "cell_type": "markdown",
   "metadata": {},
   "source": [
    "## Analyze the data"
   ]
  },
  {
   "cell_type": "markdown",
   "metadata": {},
   "source": [
    "### Step 1: Read CSV file with Airbnb data downloaded from http://insideairbnb.com/get-the-data.html"
   ]
  },
  {
   "cell_type": "code",
   "execution_count": 2,
   "metadata": {
    "scrolled": false
   },
   "outputs": [
    {
     "name": "stdout",
     "output_type": "stream",
     "text": [
      "Populating the interactive namespace from numpy and matplotlib\n"
     ]
    }
   ],
   "source": [
    "import pandas as pd\n",
    "import matplotlib.pyplot as plt\n",
    "import numpy as np\n",
    "%pylab inline\n",
    "df = pd.read_csv('/Users/doyelm/Documents/Project/listings.csv')\n",
    "\n"
   ]
  },
  {
   "cell_type": "markdown",
   "metadata": {},
   "source": [
    "### Step2: Study the data"
   ]
  },
  {
   "cell_type": "code",
   "execution_count": 2,
   "metadata": {
    "scrolled": true
   },
   "outputs": [
    {
     "name": "stdout",
     "output_type": "stream",
     "text": [
      "<class 'pandas.core.frame.DataFrame'>\n",
      "RangeIndex: 9663 entries, 0 to 9662\n",
      "Data columns (total 16 columns):\n",
      "id                                9663 non-null int64\n",
      "name                              9663 non-null object\n",
      "host_id                           9663 non-null int64\n",
      "host_name                         9661 non-null object\n",
      "neighbourhood_group               0 non-null float64\n",
      "neighbourhood                     9663 non-null int64\n",
      "latitude                          9663 non-null float64\n",
      "longitude                         9663 non-null float64\n",
      "room_type                         9663 non-null object\n",
      "price                             9663 non-null int64\n",
      "minimum_nights                    9663 non-null int64\n",
      "number_of_reviews                 9663 non-null int64\n",
      "last_review                       6006 non-null object\n",
      "reviews_per_month                 6007 non-null float64\n",
      "calculated_host_listings_count    9663 non-null int64\n",
      "availability_365                  9663 non-null int64\n",
      "dtypes: float64(4), int64(8), object(4)\n",
      "memory usage: 1.2+ MB\n"
     ]
    }
   ],
   "source": [
    "df.info()"
   ]
  },
  {
   "cell_type": "code",
   "execution_count": 115,
   "metadata": {
    "scrolled": false
   },
   "outputs": [
    {
     "data": {
      "text/html": [
       "<div>\n",
       "<style scoped>\n",
       "    .dataframe tbody tr th:only-of-type {\n",
       "        vertical-align: middle;\n",
       "    }\n",
       "\n",
       "    .dataframe tbody tr th {\n",
       "        vertical-align: top;\n",
       "    }\n",
       "\n",
       "    .dataframe thead th {\n",
       "        text-align: right;\n",
       "    }\n",
       "</style>\n",
       "<table border=\"1\" class=\"dataframe\">\n",
       "  <thead>\n",
       "    <tr style=\"text-align: right;\">\n",
       "      <th></th>\n",
       "      <th>id</th>\n",
       "      <th>host_id</th>\n",
       "      <th>neighbourhood_group</th>\n",
       "      <th>neighbourhood</th>\n",
       "      <th>latitude</th>\n",
       "      <th>longitude</th>\n",
       "      <th>price</th>\n",
       "      <th>minimum_nights</th>\n",
       "      <th>number_of_reviews</th>\n",
       "      <th>reviews_per_month</th>\n",
       "      <th>calculated_host_listings_count</th>\n",
       "      <th>availability_365</th>\n",
       "    </tr>\n",
       "  </thead>\n",
       "  <tbody>\n",
       "    <tr>\n",
       "      <th>count</th>\n",
       "      <td>9.663000e+03</td>\n",
       "      <td>9.663000e+03</td>\n",
       "      <td>0.0</td>\n",
       "      <td>9663.000000</td>\n",
       "      <td>9663.000000</td>\n",
       "      <td>9663.000000</td>\n",
       "      <td>9663.000000</td>\n",
       "      <td>9663.000000</td>\n",
       "      <td>9663.000000</td>\n",
       "      <td>6007.000000</td>\n",
       "      <td>9663.000000</td>\n",
       "      <td>9663.000000</td>\n",
       "    </tr>\n",
       "    <tr>\n",
       "      <th>mean</th>\n",
       "      <td>9.655724e+06</td>\n",
       "      <td>2.907623e+07</td>\n",
       "      <td>NaN</td>\n",
       "      <td>78722.467764</td>\n",
       "      <td>30.276059</td>\n",
       "      <td>-97.751336</td>\n",
       "      <td>292.788471</td>\n",
       "      <td>2.419021</td>\n",
       "      <td>13.917313</td>\n",
       "      <td>1.359161</td>\n",
       "      <td>3.673704</td>\n",
       "      <td>167.370071</td>\n",
       "    </tr>\n",
       "    <tr>\n",
       "      <th>std</th>\n",
       "      <td>5.702724e+06</td>\n",
       "      <td>3.111086e+07</td>\n",
       "      <td>NaN</td>\n",
       "      <td>20.714283</td>\n",
       "      <td>0.054293</td>\n",
       "      <td>0.052304</td>\n",
       "      <td>443.171455</td>\n",
       "      <td>5.808939</td>\n",
       "      <td>33.274246</td>\n",
       "      <td>1.675813</td>\n",
       "      <td>9.636083</td>\n",
       "      <td>148.704061</td>\n",
       "    </tr>\n",
       "    <tr>\n",
       "      <th>min</th>\n",
       "      <td>1.078000e+03</td>\n",
       "      <td>2.300000e+01</td>\n",
       "      <td>NaN</td>\n",
       "      <td>78701.000000</td>\n",
       "      <td>30.114882</td>\n",
       "      <td>-98.053553</td>\n",
       "      <td>0.000000</td>\n",
       "      <td>1.000000</td>\n",
       "      <td>0.000000</td>\n",
       "      <td>0.010000</td>\n",
       "      <td>1.000000</td>\n",
       "      <td>0.000000</td>\n",
       "    </tr>\n",
       "    <tr>\n",
       "      <th>25%</th>\n",
       "      <td>4.849021e+06</td>\n",
       "      <td>4.689866e+06</td>\n",
       "      <td>NaN</td>\n",
       "      <td>78704.000000</td>\n",
       "      <td>30.244039</td>\n",
       "      <td>-97.769482</td>\n",
       "      <td>89.000000</td>\n",
       "      <td>1.000000</td>\n",
       "      <td>0.000000</td>\n",
       "      <td>0.240000</td>\n",
       "      <td>1.000000</td>\n",
       "      <td>9.000000</td>\n",
       "    </tr>\n",
       "    <tr>\n",
       "      <th>50%</th>\n",
       "      <td>1.036768e+07</td>\n",
       "      <td>1.738394e+07</td>\n",
       "      <td>NaN</td>\n",
       "      <td>78721.000000</td>\n",
       "      <td>30.266359</td>\n",
       "      <td>-97.744387</td>\n",
       "      <td>160.000000</td>\n",
       "      <td>2.000000</td>\n",
       "      <td>2.000000</td>\n",
       "      <td>0.740000</td>\n",
       "      <td>1.000000</td>\n",
       "      <td>133.000000</td>\n",
       "    </tr>\n",
       "    <tr>\n",
       "      <th>75%</th>\n",
       "      <td>1.518828e+07</td>\n",
       "      <td>4.427075e+07</td>\n",
       "      <td>NaN</td>\n",
       "      <td>78745.000000</td>\n",
       "      <td>30.298177</td>\n",
       "      <td>-97.722401</td>\n",
       "      <td>340.000000</td>\n",
       "      <td>2.000000</td>\n",
       "      <td>12.000000</td>\n",
       "      <td>1.830000</td>\n",
       "      <td>2.000000</td>\n",
       "      <td>339.000000</td>\n",
       "    </tr>\n",
       "    <tr>\n",
       "      <th>max</th>\n",
       "      <td>1.759094e+07</td>\n",
       "      <td>1.195162e+08</td>\n",
       "      <td>NaN</td>\n",
       "      <td>78759.000000</td>\n",
       "      <td>30.506688</td>\n",
       "      <td>-97.560622</td>\n",
       "      <td>10000.000000</td>\n",
       "      <td>250.000000</td>\n",
       "      <td>427.000000</td>\n",
       "      <td>12.000000</td>\n",
       "      <td>73.000000</td>\n",
       "      <td>365.000000</td>\n",
       "    </tr>\n",
       "  </tbody>\n",
       "</table>\n",
       "</div>"
      ],
      "text/plain": [
       "                 id       host_id  neighbourhood_group  neighbourhood  \\\n",
       "count  9.663000e+03  9.663000e+03                  0.0    9663.000000   \n",
       "mean   9.655724e+06  2.907623e+07                  NaN   78722.467764   \n",
       "std    5.702724e+06  3.111086e+07                  NaN      20.714283   \n",
       "min    1.078000e+03  2.300000e+01                  NaN   78701.000000   \n",
       "25%    4.849021e+06  4.689866e+06                  NaN   78704.000000   \n",
       "50%    1.036768e+07  1.738394e+07                  NaN   78721.000000   \n",
       "75%    1.518828e+07  4.427075e+07                  NaN   78745.000000   \n",
       "max    1.759094e+07  1.195162e+08                  NaN   78759.000000   \n",
       "\n",
       "          latitude    longitude         price  minimum_nights  \\\n",
       "count  9663.000000  9663.000000   9663.000000     9663.000000   \n",
       "mean     30.276059   -97.751336    292.788471        2.419021   \n",
       "std       0.054293     0.052304    443.171455        5.808939   \n",
       "min      30.114882   -98.053553      0.000000        1.000000   \n",
       "25%      30.244039   -97.769482     89.000000        1.000000   \n",
       "50%      30.266359   -97.744387    160.000000        2.000000   \n",
       "75%      30.298177   -97.722401    340.000000        2.000000   \n",
       "max      30.506688   -97.560622  10000.000000      250.000000   \n",
       "\n",
       "       number_of_reviews  reviews_per_month  calculated_host_listings_count  \\\n",
       "count        9663.000000        6007.000000                     9663.000000   \n",
       "mean           13.917313           1.359161                        3.673704   \n",
       "std            33.274246           1.675813                        9.636083   \n",
       "min             0.000000           0.010000                        1.000000   \n",
       "25%             0.000000           0.240000                        1.000000   \n",
       "50%             2.000000           0.740000                        1.000000   \n",
       "75%            12.000000           1.830000                        2.000000   \n",
       "max           427.000000          12.000000                       73.000000   \n",
       "\n",
       "       availability_365  \n",
       "count       9663.000000  \n",
       "mean         167.370071  \n",
       "std          148.704061  \n",
       "min            0.000000  \n",
       "25%            9.000000  \n",
       "50%          133.000000  \n",
       "75%          339.000000  \n",
       "max          365.000000  "
      ]
     },
     "execution_count": 115,
     "metadata": {},
     "output_type": "execute_result"
    }
   ],
   "source": [
    "df.describe()"
   ]
  },
  {
   "cell_type": "code",
   "execution_count": 116,
   "metadata": {},
   "outputs": [
    {
     "data": {
      "text/html": [
       "<div>\n",
       "<style scoped>\n",
       "    .dataframe tbody tr th:only-of-type {\n",
       "        vertical-align: middle;\n",
       "    }\n",
       "\n",
       "    .dataframe tbody tr th {\n",
       "        vertical-align: top;\n",
       "    }\n",
       "\n",
       "    .dataframe thead th {\n",
       "        text-align: right;\n",
       "    }\n",
       "</style>\n",
       "<table border=\"1\" class=\"dataframe\">\n",
       "  <thead>\n",
       "    <tr style=\"text-align: right;\">\n",
       "      <th></th>\n",
       "      <th>price</th>\n",
       "    </tr>\n",
       "  </thead>\n",
       "  <tbody>\n",
       "    <tr>\n",
       "      <th>count</th>\n",
       "      <td>9663.000000</td>\n",
       "    </tr>\n",
       "    <tr>\n",
       "      <th>mean</th>\n",
       "      <td>292.788471</td>\n",
       "    </tr>\n",
       "    <tr>\n",
       "      <th>std</th>\n",
       "      <td>443.171455</td>\n",
       "    </tr>\n",
       "    <tr>\n",
       "      <th>min</th>\n",
       "      <td>0.000000</td>\n",
       "    </tr>\n",
       "    <tr>\n",
       "      <th>25%</th>\n",
       "      <td>89.000000</td>\n",
       "    </tr>\n",
       "    <tr>\n",
       "      <th>50%</th>\n",
       "      <td>160.000000</td>\n",
       "    </tr>\n",
       "    <tr>\n",
       "      <th>75%</th>\n",
       "      <td>340.000000</td>\n",
       "    </tr>\n",
       "    <tr>\n",
       "      <th>max</th>\n",
       "      <td>10000.000000</td>\n",
       "    </tr>\n",
       "  </tbody>\n",
       "</table>\n",
       "</div>"
      ],
      "text/plain": [
       "              price\n",
       "count   9663.000000\n",
       "mean     292.788471\n",
       "std      443.171455\n",
       "min        0.000000\n",
       "25%       89.000000\n",
       "50%      160.000000\n",
       "75%      340.000000\n",
       "max    10000.000000"
      ]
     },
     "execution_count": 116,
     "metadata": {},
     "output_type": "execute_result"
    }
   ],
   "source": [
    "pd.DataFrame(df['price'].describe())"
   ]
  },
  {
   "cell_type": "markdown",
   "metadata": {},
   "source": [
    "### Plot histogram to determine price range"
   ]
  },
  {
   "cell_type": "code",
   "execution_count": 3,
   "metadata": {
    "scrolled": false
   },
   "outputs": [
    {
     "data": {
      "text/plain": [
       "Text(0.5,0,'price')"
      ]
     },
     "execution_count": 3,
     "metadata": {},
     "output_type": "execute_result"
    },
    {
     "data": {
      "image/png": "[encoded data removed]",
      "text/plain": [
       "<matplotlib.figure.Figure at 0x1088c7cf8>"
      ]
     },
     "metadata": {},
     "output_type": "display_data"
    }
   ],
   "source": [
    "ax = df['price'].hist()\n",
    "\n",
    "ax.set_title('Price range')\n",
    "\n",
    "df['price'].plot.hist(alpha=0.99, bins=15)\n",
    "\n",
    "ax.set_ylabel('Number of house')\n",
    "ax.set_xlabel('price')\n"
   ]
  },
  {
   "cell_type": "markdown",
   "metadata": {},
   "source": [
    "### Plot histogram to determine price range - on a logarithmic scale"
   ]
  },
  {
   "cell_type": "code",
   "execution_count": 118,
   "metadata": {},
   "outputs": [
    {
     "data": {
      "text/plain": [
       "Text(0.5,1,'Price range on logarithmic scale')"
      ]
     },
     "execution_count": 118,
     "metadata": {},
     "output_type": "execute_result"
    },
    {
     "data": {
      "image/png": "[encoded data removed]",
      "text/plain": [
       "<matplotlib.figure.Figure at 0x111c06748>"
      ]
     },
     "metadata": {},
     "output_type": "display_data"
    }
   ],
   "source": [
    "ax = df['price'].hist()\n",
    "\n",
    "ax.set_title('Price range')\n",
    "\n",
    "\n",
    "df['price'].plot.hist(alpha=0.9)\n",
    "\n",
    "ax.set_ylabel('Number of house')\n",
    "ax.set_yscale('log')\n",
    "ax.set_xlabel('price')\n",
    "\n",
    "plt.title('Price range on logarithmic scale')"
   ]
  },
  {
   "cell_type": "markdown",
   "metadata": {},
   "source": [
    "### Plot Bar Plot to determine price variation with neighborhood"
   ]
  },
  {
   "cell_type": "code",
   "execution_count": 5,
   "metadata": {
    "scrolled": false
   },
   "outputs": [
    {
     "data": {
      "text/plain": [
       "Text(0.5,0.98,'')"
      ]
     },
     "execution_count": 5,
     "metadata": {},
     "output_type": "execute_result"
    },
    {
     "data": {
      "image/png": "[encoded data removed]",
      "text/plain": [
       "<matplotlib.figure.Figure at 0x112b7b6d8>"
      ]
     },
     "metadata": {},
     "output_type": "display_data"
    },
    {
     "data": {
      "text/plain": [
       "<matplotlib.figure.Figure at 0x112b73fd0>"
      ]
     },
     "metadata": {},
     "output_type": "display_data"
    }
   ],
   "source": [
    "df.groupby(['neighbourhood' ])[['id']].count().plot(kind='bar').set_ylabel('Count')\n",
    "\n",
    "plt.title('Number of homes by neighbourhood')\n",
    "plt.figure(figsize=(3,4))\n",
    "plt.suptitle(\"\")\n"
   ]
  },
  {
   "cell_type": "markdown",
   "metadata": {},
   "source": [
    "### Plot whisker plot to determine outliers"
   ]
  },
  {
   "cell_type": "code",
   "execution_count": 6,
   "metadata": {},
   "outputs": [
    {
     "name": "stdout",
     "output_type": "stream",
     "text": [
      "Find outliers for each room type\n",
      "Populating the interactive namespace from numpy and matplotlib\n"
     ]
    },
    {
     "data": {
      "text/plain": [
       "Text(0.5,0.98,'')"
      ]
     },
     "execution_count": 6,
     "metadata": {},
     "output_type": "execute_result"
    },
    {
     "data": {
      "image/png": "[encoded data removed]",
      "text/plain": [
       "<matplotlib.figure.Figure at 0x10c8a8c50>"
      ]
     },
     "metadata": {},
     "output_type": "display_data"
    }
   ],
   "source": [
    "print('Find outliers for each room type')\n",
    "import pandas as pd\n",
    "%pylab inline\n",
    "df = pd.read_csv('/Users/doyelm/Documents/Project/listings.csv')\n",
    "\n",
    "bp = df.boxplot(column=['price'], by=['room_type'])\n",
    "bp.set_ylabel('Price')\n",
    "bp.set_yscale('log')\n",
    "plt.title('Find outliers for each room type')\n",
    "plt.suptitle(\"\")"
   ]
  },
  {
   "cell_type": "markdown",
   "metadata": {},
   "source": [
    "### Boxplot without outliers"
   ]
  },
  {
   "cell_type": "code",
   "execution_count": 7,
   "metadata": {
    "scrolled": false
   },
   "outputs": [
    {
     "name": "stdout",
     "output_type": "stream",
     "text": [
      "Remove outliers for each room type\n",
      "Populating the interactive namespace from numpy and matplotlib\n"
     ]
    },
    {
     "data": {
      "text/plain": [
       "Text(0.5,0.98,'')"
      ]
     },
     "execution_count": 7,
     "metadata": {},
     "output_type": "execute_result"
    },
    {
     "data": {
      "image/png": "[encoded data removed]",
      "text/plain": [
       "<matplotlib.figure.Figure at 0x10cfad0f0>"
      ]
     },
     "metadata": {},
     "output_type": "display_data"
    }
   ],
   "source": [
    "print('Remove outliers for each room type')\n",
    "import pandas as pd\n",
    "df = pd.read_csv('/Users/doyelm/Documents/Project/listings.csv')\n",
    "%pylab inline\n",
    "\n",
    "\n",
    "df.boxplot(column=['price'], by=['room_type'],showfliers=False)\n",
    "plt.title('Boxplot without outliers  - Price by each room type')\n",
    "plt.suptitle(\"\")"
   ]
  },
  {
   "cell_type": "markdown",
   "metadata": {},
   "source": [
    "### Plot count of each type of room "
   ]
  },
  {
   "cell_type": "code",
   "execution_count": 122,
   "metadata": {},
   "outputs": [
    {
     "data": {
      "text/plain": [
       "Text(0.5,1,'Room Type - Count')"
      ]
     },
     "execution_count": 122,
     "metadata": {},
     "output_type": "execute_result"
    },
    {
     "data": {
      "image/png": "[encoded data removed]",
      "text/plain": [
       "<matplotlib.figure.Figure at 0x11e7bf208>"
      ]
     },
     "metadata": {},
     "output_type": "display_data"
    }
   ],
   "source": [
    "df.groupby(['room_type' ])[['id']].count().plot(kind='bar').set_ylabel('Count')\n",
    "plt.title('Room Type - Count')"
   ]
  },
  {
   "cell_type": "markdown",
   "metadata": {},
   "source": [
    "### Check number of last reviews by years to check if most of the data is current"
   ]
  },
  {
   "cell_type": "code",
   "execution_count": 123,
   "metadata": {},
   "outputs": [
    {
     "name": "stdout",
     "output_type": "stream",
     "text": [
      "DatetimeIndex(['2016-05-13', '2013-03-12', '2016-12-20', '2016-06-12',\n",
      "               '2017-02-20', '2017-03-06', '2017-03-03', '2017-01-04',\n",
      "               '2017-03-05', '2016-10-21',\n",
      "               ...\n",
      "               '2017-02-19', '2016-11-11', '2016-12-01', '2017-02-22',\n",
      "               '2017-02-17', '2015-10-28', '2017-02-16', '2017-02-23',\n",
      "               '2017-01-15', '2017-02-25'],\n",
      "              dtype='datetime64[ns]', name='last_review', length=6006, freq=None)\n"
     ]
    },
    {
     "data": {
      "text/plain": [
       "Text(0.5,1,'Number of last reviews by year')"
      ]
     },
     "execution_count": 123,
     "metadata": {},
     "output_type": "execute_result"
    },
    {
     "data": {
      "image/png": "[encoded data removed]",
      "text/plain": [
       "<matplotlib.figure.Figure at 0x11e7b7eb8>"
      ]
     },
     "metadata": {},
     "output_type": "display_data"
    }
   ],
   "source": [
    "from datetime import datetime\n",
    "\n",
    "df = df[df.last_review.notnull()]\n",
    "dates = pd.to_datetime(df.last_review, format='%Y-%m-%d')\n",
    "#print(dates)\n",
    "#df = dates.groupby([pd.TimeGrouper('12M')]) \n",
    "df.set_index(dates,inplace=True)\n",
    "print(df.index)\n",
    "df['number_of_reviews'].resample('6M').sum().plot(kind='bar').set_ylabel('Number of reviews')\n",
    "df['number_of_reviews'].resample('12M').sum().plot(kind='bar').set_ylabel('Number of reviews')\n",
    "plt.yscale('log')\n",
    "plt.title('Number of last reviews by year')"
   ]
  },
  {
   "cell_type": "markdown",
   "metadata": {},
   "source": [
    "### Check location of the homes to check if they are from the same area"
   ]
  },
  {
   "cell_type": "code",
   "execution_count": 7,
   "metadata": {},
   "outputs": [
    {
     "name": "stderr",
     "output_type": "stream",
     "text": [
      "/anaconda3/lib/python3.6/site-packages/mpl_toolkits/basemap/__init__.py:3296: MatplotlibDeprecationWarning: The ishold function was deprecated in version 2.0.\n",
      "  b = ax.ishold()\n",
      "/anaconda3/lib/python3.6/site-packages/mpl_toolkits/basemap/__init__.py:3305: MatplotlibDeprecationWarning: axes.hold is deprecated.\n",
      "    See the API Changes document (http://matplotlib.org/api/api_changes.html)\n",
      "    for more details.\n",
      "  ax.hold(b)\n"
     ]
    },
    {
     "data": {
      "image/png": "[encoded data removed]",
      "text/plain": [
       "<matplotlib.figure.Figure at 0x10f416358>"
      ]
     },
     "metadata": {},
     "output_type": "display_data"
    }
   ],
   "source": [
    "from mpl_toolkits.basemap import Basemap\n",
    "#df.plot.scatter('latitude','longitude')\n",
    "#plt.title('Number of homes by latitude longitude')\n",
    "m = Basemap(projection='aeqd',\n",
    "              lon_0 = -98,\n",
    "              lat_0 = 30,\n",
    "              width = 10000000,\n",
    "              height = 10000000)\n",
    "lats = df.latitude\n",
    "lons = df.longitude\n",
    "x, y = m(lons.values, lats.values)  # transform coordinates\n",
    "m.bluemarble(scale=0.9)   # full scale will be overkill\n",
    "m.drawcoastlines(color='white', linewidth=0.2)  # add coastlines\n",
    "plt.scatter(x, y, 10, marker='o', color='Red') \n",
    "\n",
    "plt.show()"
   ]
  },
  {
   "cell_type": "markdown",
   "metadata": {},
   "source": [
    "## Clean the data"
   ]
  },
  {
   "cell_type": "markdown",
   "metadata": {},
   "source": [
    "### Find how many neighbourgoods have sample > 10"
   ]
  },
  {
   "cell_type": "code",
   "execution_count": 8,
   "metadata": {},
   "outputs": [
    {
     "data": {
      "text/plain": [
       "41"
      ]
     },
     "execution_count": 8,
     "metadata": {},
     "output_type": "execute_result"
    }
   ],
   "source": [
    "df2 = df.groupby(['neighbourhood'])[['id']].count().reset_index()\n",
    " \n",
    "len(df2[df2.id > 10].sort_values('id',ascending=False ) )"
   ]
  },
  {
   "cell_type": "markdown",
   "metadata": {},
   "source": [
    "### Select top 39 neighbourhoods - from above result we see 39 neighbourhoods have sample > 10"
   ]
  },
  {
   "cell_type": "code",
   "execution_count": 9,
   "metadata": {},
   "outputs": [
    {
     "name": "stdout",
     "output_type": "stream",
     "text": [
      "<class 'pandas.core.frame.DataFrame'>\n",
      "Int64Index: 9621 entries, 0 to 9662\n",
      "Data columns (total 8 columns):\n",
      "neighbourhood        9621 non-null object\n",
      "latitude             9621 non-null float64\n",
      "longitude            9621 non-null float64\n",
      "room_type            9621 non-null object\n",
      "price                9621 non-null float64\n",
      "minimum_nights       9621 non-null float64\n",
      "number_of_reviews    9621 non-null float64\n",
      "availability_365     9621 non-null float64\n",
      "dtypes: float64(6), object(2)\n",
      "memory usage: 676.5+ KB\n"
     ]
    }
   ],
   "source": [
    "\n",
    "df_1=df.groupby(['neighbourhood' ])[['id']].count().sort_values(by=['id'], ascending=False)[0:39]\n",
    "\n",
    "# choose data for the neighbourhoods in the list created above\n",
    "df_new = df[df['neighbourhood'].isin(df_1.index.values.tolist())].loc[:, ('neighbourhood', 'latitude','longitude','room_type','price','minimum_nights','number_of_reviews', 'availability_365') ]\n",
    "df_new.fillna(0)   \n",
    "df_new.price=df_new.price.astype(float) \n",
    "df_new.minimum_nights=df_new.minimum_nights.astype(float) \n",
    "df_new.number_of_reviews=df_new.number_of_reviews.astype(float) \n",
    "df_new.availability_365=df_new.availability_365.astype(float) \n",
    "df_new.neighbourhood=df_new.neighbourhood.astype(str) \n",
    " \n",
    "df_new.info()\n",
    " "
   ]
  },
  {
   "cell_type": "markdown",
   "metadata": {},
   "source": [
    "### Check if data exists with price == 0"
   ]
  },
  {
   "cell_type": "code",
   "execution_count": 127,
   "metadata": {},
   "outputs": [
    {
     "data": {
      "text/html": [
       "<div>\n",
       "<style scoped>\n",
       "    .dataframe tbody tr th:only-of-type {\n",
       "        vertical-align: middle;\n",
       "    }\n",
       "\n",
       "    .dataframe tbody tr th {\n",
       "        vertical-align: top;\n",
       "    }\n",
       "\n",
       "    .dataframe thead th {\n",
       "        text-align: right;\n",
       "    }\n",
       "</style>\n",
       "<table border=\"1\" class=\"dataframe\">\n",
       "  <thead>\n",
       "    <tr style=\"text-align: right;\">\n",
       "      <th></th>\n",
       "      <th>id</th>\n",
       "      <th>name</th>\n",
       "      <th>host_id</th>\n",
       "      <th>host_name</th>\n",
       "      <th>neighbourhood_group</th>\n",
       "      <th>neighbourhood</th>\n",
       "      <th>latitude</th>\n",
       "      <th>longitude</th>\n",
       "      <th>room_type</th>\n",
       "      <th>price</th>\n",
       "      <th>minimum_nights</th>\n",
       "      <th>number_of_reviews</th>\n",
       "      <th>last_review</th>\n",
       "      <th>reviews_per_month</th>\n",
       "      <th>calculated_host_listings_count</th>\n",
       "      <th>availability_365</th>\n",
       "    </tr>\n",
       "    <tr>\n",
       "      <th>last_review</th>\n",
       "      <th></th>\n",
       "      <th></th>\n",
       "      <th></th>\n",
       "      <th></th>\n",
       "      <th></th>\n",
       "      <th></th>\n",
       "      <th></th>\n",
       "      <th></th>\n",
       "      <th></th>\n",
       "      <th></th>\n",
       "      <th></th>\n",
       "      <th></th>\n",
       "      <th></th>\n",
       "      <th></th>\n",
       "      <th></th>\n",
       "      <th></th>\n",
       "    </tr>\n",
       "  </thead>\n",
       "  <tbody>\n",
       "  </tbody>\n",
       "</table>\n",
       "</div>"
      ],
      "text/plain": [
       "Empty DataFrame\n",
       "Columns: [id, name, host_id, host_name, neighbourhood_group, neighbourhood, latitude, longitude, room_type, price, minimum_nights, number_of_reviews, last_review, reviews_per_month, calculated_host_listings_count, availability_365]\n",
       "Index: []"
      ]
     },
     "execution_count": 127,
     "metadata": {},
     "output_type": "execute_result"
    }
   ],
   "source": [
    "df[df.price == 0]"
   ]
  },
  {
   "cell_type": "markdown",
   "metadata": {},
   "source": [
    "### convert non-numeric binary variables into binary (0/1) variables. Converts categorical variables into dummy variables."
   ]
  },
  {
   "cell_type": "code",
   "execution_count": 10,
   "metadata": {},
   "outputs": [],
   "source": [
    "\n",
    "def preprocess_features(X):\n",
    "    '''   converts non-numeric binary variables into\n",
    "        binary (0/1) variables. Converts categorical variables into dummy variables. '''\n",
    "\n",
    "    # Initialize new output DataFrame\n",
    "    output = pd.DataFrame(index = X.index)\n",
    "    # Investigate each feature column for the data\n",
    "    for col, col_data in X.iteritems():\n",
    "        #print(col,col_data)\n",
    "        # If data type is non-numeric, replace all yes/no values with 1/0\n",
    "        if col_data.dtype == object:\n",
    "            col_data = col_data.replace(['yes', 'no'], [1, 0])\n",
    "\n",
    "        # If data type is categorical, convert to dummy variables\n",
    "        if col_data.dtype == object:\n",
    "            # Example: 'school' => 'school_GP' and 'school_MS'\n",
    "            col_data = pd.get_dummies(col_data, prefix = col)  \n",
    "        \n",
    "        # Collect the revised columns\n",
    "        output = output.join(col_data)\n",
    "    \n",
    "    return output\n",
    "\n",
    "y =  log( df_new.price+1)#.fillna(0)   \n",
    "\n",
    "X = df_new.loc[:,df_new.columns != 'price'] \n",
    "X_all = preprocess_features(X)\n",
    " \n",
    " \n",
    "\n",
    " "
   ]
  },
  {
   "cell_type": "markdown",
   "metadata": {},
   "source": [
    "## Apply Models"
   ]
  },
  {
   "cell_type": "markdown",
   "metadata": {},
   "source": [
    "### Split the targets into training/testing sets"
   ]
  },
  {
   "cell_type": "code",
   "execution_count": 11,
   "metadata": {},
   "outputs": [],
   "source": [
    "from sklearn.metrics import r2_score\n",
    "from sklearn.model_selection import train_test_split, GridSearchCV\n",
    "df_X_train, df_X_test, df_y_train, df_y_test = train_test_split(X_all, y, test_size=0.3, random_state=42)"
   ]
  },
  {
   "cell_type": "markdown",
   "metadata": {},
   "source": [
    "### perform T test "
   ]
  },
  {
   "cell_type": "code",
   "execution_count": 12,
   "metadata": {},
   "outputs": [
    {
     "data": {
      "text/plain": [
       "Ttest_indResult(statistic=32.789444173586759, pvalue=3.1813582468139752e-222)"
      ]
     },
     "execution_count": 12,
     "metadata": {},
     "output_type": "execute_result"
    }
   ],
   "source": [
    "from scipy import stats\n",
    " \n",
    "df_2=df.groupby(['room_type' ])[['id']].count().sort_values(by=['id'] , ascending=False)[0:1]\n",
    "df_3=df.groupby(['room_type'])[['id']].count().sort_values(by=['id'] , ascending=False)[1:2]\n",
    "#print(df_2)\n",
    "#print(df_3)\n",
    "df_array2=df[df['room_type'].isin(df_2.index.values.tolist())].price\n",
    "df_array3=df[df['room_type'].isin(df_3.index.values.tolist())].price\n",
    "\n",
    "#print(df_array1)\n",
    "np.seterr(divide='ignore', invalid='ignore')\n",
    "stats.ttest_ind(df_array2, df_array3, equal_var = False)"
   ]
  },
  {
   "cell_type": "markdown",
   "metadata": {},
   "source": [
    "#### In the above test stats.ttest_ind is used to calculate the T-test for the means of two independent samples of scores. The test measures whether the average (expected) value differs significantly across samples. If we observe a large p-value, for example larger than 0.05 or 0.1, then we cannot reject the null hypothesis of identical average scores. If the p-value is smaller than the threshold, e.g. 1%, 5% or 10%, then we reject the null hypothesis of equal averages. \n",
    "#### Null hypothesis : \"The average price for the apartment is similar to the average price for the private room\" \n",
    "#### The alternatve hypothesis : \" the average price is differant between the types of rooms. \n",
    "###  As P-value is larger than 0.05 or 0.1, we cannot reject the null hypothesis \n",
    "\n"
   ]
  },
  {
   "cell_type": "markdown",
   "metadata": {},
   "source": [
    "### OLS - Ordinary Least squares model"
   ]
  },
  {
   "cell_type": "code",
   "execution_count": 13,
   "metadata": {},
   "outputs": [
    {
     "name": "stdout",
     "output_type": "stream",
     "text": [
      "Populating the interactive namespace from numpy and matplotlib\n",
      "                        Results: Ordinary least squares\n",
      "================================================================================\n",
      "Model:                   OLS                  Adj. R-squared:         0.414     \n",
      "Dependent Variable:      price                AIC:                    21238.3918\n",
      "Date:                    2018-05-06 19:09     BIC:                    21568.2901\n",
      "No. Observations:        9621                 Log-Likelihood:         -10573.   \n",
      "Df Model:                45                   F-statistic:            152.0     \n",
      "Df Residuals:            9575                 Prob (F-statistic):     0.00      \n",
      "R-squared:               0.417                Scale:                  0.52986   \n",
      "--------------------------------------------------------------------------------\n",
      "                            Coef.   Std.Err.    t     P>|t|    [0.025    0.975] \n",
      "--------------------------------------------------------------------------------\n",
      "neighbourhood_78701        -22.6742   4.0248  -5.6337 0.0000  -30.5636  -14.7849\n",
      "neighbourhood_78702        -22.7997   4.0125  -5.6821 0.0000  -30.6651  -14.9343\n",
      "neighbourhood_78703        -22.8790   4.0381  -5.6658 0.0000  -30.7945  -14.9636\n",
      "neighbourhood_78704        -22.9382   4.0289  -5.6935 0.0000  -30.8356  -15.0407\n",
      "neighbourhood_78705        -23.3669   4.0288  -5.8000 0.0000  -31.2642  -15.4696\n",
      "neighbourhood_78721        -23.1277   3.9983  -5.7844 0.0000  -30.9651  -15.2902\n",
      "neighbourhood_78722        -23.1229   4.0161  -5.7575 0.0000  -30.9954  -15.2505\n",
      "neighbourhood_78723        -23.1683   4.0075  -5.7813 0.0000  -31.0238  -15.3128\n",
      "neighbourhood_78724        -23.0610   3.9781  -5.7969 0.0000  -30.8590  -15.2630\n",
      "neighbourhood_78725        -22.9316   3.9645  -5.7842 0.0000  -30.7029  -15.1603\n",
      "neighbourhood_78727        -23.9987   4.0529  -5.9213 0.0000  -31.9433  -16.0540\n",
      "neighbourhood_78728        -23.9642   4.0421  -5.9287 0.0000  -31.8876  -16.0408\n",
      "neighbourhood_78729        -24.3297   4.0872  -5.9526 0.0000  -32.3415  -16.3179\n",
      "neighbourhood_78730        -23.4184   4.0859  -5.7315 0.0000  -31.4276  -15.4092\n",
      "neighbourhood_78731        -23.2665   4.0520  -5.7420 0.0000  -31.2092  -15.3237\n",
      "neighbourhood_78732        -23.4437   4.1303  -5.6760 0.0000  -31.5400  -15.3474\n",
      "neighbourhood_78733        -23.6329   4.1052  -5.7568 0.0000  -31.6799  -15.5859\n",
      "neighbourhood_78734        -23.8385   4.1585  -5.7325 0.0000  -31.9900  -15.6870\n",
      "neighbourhood_78735        -23.0393   4.0722  -5.6577 0.0000  -31.0218  -15.0569\n",
      "neighbourhood_78736        -23.5517   4.1132  -5.7259 0.0000  -31.6145  -15.4889\n",
      "neighbourhood_78737        -23.4347   4.1192  -5.6891 0.0000  -31.5092  -15.3601\n",
      "neighbourhood_78738        -23.5274   4.1548  -5.6627 0.0000  -31.6717  -15.3831\n",
      "neighbourhood_78739        -22.9479   4.0760  -5.6299 0.0000  -30.9378  -14.9579\n",
      "neighbourhood_78741        -23.1570   4.0075  -5.7784 0.0000  -31.0126  -15.3014\n",
      "neighbourhood_78744        -23.0394   4.0062  -5.7509 0.0000  -30.8924  -15.1864\n",
      "neighbourhood_78745        -23.1782   4.0361  -5.7428 0.0000  -31.0898  -15.2667\n",
      "neighbourhood_78746        -22.7219   4.0571  -5.6006 0.0000  -30.6746  -14.7692\n",
      "neighbourhood_78747        -22.7999   4.0050  -5.6928 0.0000  -30.6505  -14.9492\n",
      "neighbourhood_78748        -23.1714   4.0396  -5.7360 0.0000  -31.0899  -15.2529\n",
      "neighbourhood_78749        -23.2681   4.0686  -5.7189 0.0000  -31.2434  -15.2928\n",
      "neighbourhood_78750        -23.8790   4.0962  -5.8295 0.0000  -31.9085  -15.8495\n",
      "neighbourhood_78751        -23.4576   4.0258  -5.8268 0.0000  -31.3491  -15.5662\n",
      "neighbourhood_78752        -23.5058   4.0239  -5.8416 0.0000  -31.3934  -15.6182\n",
      "neighbourhood_78753        -23.7699   4.0179  -5.9160 0.0000  -31.6459  -15.8940\n",
      "neighbourhood_78754        -23.4456   3.9988  -5.8631 0.0000  -31.2842  -15.6071\n",
      "neighbourhood_78756        -23.4873   4.0358  -5.8197 0.0000  -31.3983  -15.5763\n",
      "neighbourhood_78757        -23.6714   4.0378  -5.8625 0.0000  -31.5863  -15.7565\n",
      "neighbourhood_78758        -23.8821   4.0379  -5.9144 0.0000  -31.7974  -15.9669\n",
      "neighbourhood_78759        -23.8670   4.0606  -5.8777 0.0000  -31.8267  -15.9073\n",
      "latitude                     3.6364   0.6497   5.5967 0.0000    2.3628    4.9101\n",
      "longitude                   -2.2646   0.5369  -4.2182 0.0000   -3.3169   -1.2122\n",
      "room_type_Entire home/apt -302.7742  52.6193  -5.7541 0.0000 -405.9192 -199.6293\n",
      "room_type_Private room    -303.7835  52.6188  -5.7733 0.0000 -406.9275 -200.6396\n",
      "room_type_Shared room     -304.2070  52.6190  -5.7813 0.0000 -407.3515 -201.0626\n",
      "minimum_nights              -0.0065   0.0013  -5.0755 0.0000   -0.0090   -0.0040\n",
      "number_of_reviews           -0.0067   0.0002 -29.2685 0.0000   -0.0072   -0.0063\n",
      "availability_365             0.0003   0.0001   5.3189 0.0000    0.0002    0.0004\n",
      "--------------------------------------------------------------------------------\n",
      "Omnibus:                498.413        Durbin-Watson:           1.963           \n",
      "Prob(Omnibus):          0.000          Jarque-Bera (JB):        683.117         \n",
      "Skew:                   0.490          Prob(JB):                0.000           \n",
      "Kurtosis:               3.863          Condition No.:           8328717187424157\n",
      "================================================================================\n",
      "* The condition number is large (8e+15). This might indicate             strong\n",
      "multicollinearity or other numerical problems.\n"
     ]
    },
    {
     "name": "stderr",
     "output_type": "stream",
     "text": [
      "/anaconda3/lib/python3.6/site-packages/statsmodels/compat/pandas.py:56: FutureWarning: The pandas.core.datetools module is deprecated and will be removed in a future version. Please use the pandas.tseries module instead.\n",
      "  from pandas.core import datetools\n"
     ]
    }
   ],
   "source": [
    "\n",
    "import statsmodels\n",
    "from numpy.random import randn\n",
    "import statsmodels.api as sm\n",
    "\n",
    "%pylab inline\n",
    "\n",
    "mymodel = sm.OLS(y,X_all)\n",
    "results = mymodel.fit()\n",
    "results.params\n",
    "results.summary()\n",
    "results.summary2()\n",
    "results_summary=results.summary2()\n",
    "print(results_summary)\n",
    "\n"
   ]
  },
  {
   "cell_type": "markdown",
   "metadata": {},
   "source": [
    "#### The OLS class estimates a multi-variate regression model and provides a variety of fit-statistics. pvalue should be less than 0.05 . 5 values with Pvalue > 0.05 -> can be ignored\n"
   ]
  },
  {
   "cell_type": "markdown",
   "metadata": {},
   "source": [
    "### linear regression - mean squared deviation - for neighbourhood and price"
   ]
  },
  {
   "cell_type": "code",
   "execution_count": 14,
   "metadata": {},
   "outputs": [
    {
     "name": "stdout",
     "output_type": "stream",
     "text": [
      " R-squared: 0.431268492801\n"
     ]
    }
   ],
   "source": [
    "\n",
    "import matplotlib.pyplot as plt\n",
    "import numpy as np\n",
    "from sklearn import datasets, linear_model\n",
    "from sklearn.metrics import mean_squared_error, r2_score\n",
    "from sklearn.model_selection import train_test_split\n",
    "\n",
    "# Create linear regression object\n",
    "regr = linear_model.LinearRegression()\n",
    "\n",
    "\n",
    "# Train the model using the training sets\n",
    "regr.fit(df_X_train,df_y_train)\n",
    "\n",
    "# Make predictions using the testing set\n",
    "df_y_pred = regr.predict(df_X_test)\n",
    "\n",
    "\n",
    "from sklearn.metrics import r2_score\n",
    "\n",
    "print(' R-squared:',r2_score(df_y_test, df_y_pred)) \n",
    "\n"
   ]
  },
  {
   "cell_type": "markdown",
   "metadata": {},
   "source": [
    "### decision tree"
   ]
  },
  {
   "cell_type": "code",
   "execution_count": 33,
   "metadata": {},
   "outputs": [
    {
     "name": "stdout",
     "output_type": "stream",
     "text": [
      "Automatically created module for IPython interactive environment\n",
      "R-squared for the training 0.308431378639\n",
      "R-squared for the testing 0.460116654917\n"
     ]
    }
   ],
   "source": [
    "print(__doc__)\n",
    "\n",
    "\n",
    "import matplotlib.pyplot as plt\n",
    "import numpy as np\n",
    "from sklearn import datasets, linear_model\n",
    "from sklearn.metrics import mean_squared_error, r2_score\n",
    "from sklearn.model_selection import train_test_split\n",
    "from sklearn import tree\n",
    "\n",
    "clf = tree.DecisionTreeRegressor(max_depth=6)\n",
    "\n",
    "\n",
    "# Train the model using the training sets\n",
    "clf.fit(df_X_train,df_y_train)\n",
    "\n",
    "# Make predictions using the testing set\n",
    "df_y_pred_test = clf.predict(df_X_test)\n",
    "\n",
    "\n",
    "from sklearn.metrics import r2_score\n",
    "\n",
    "print('R-squared for the training',r2_score(df_y_train, df_y_pred_train))\n",
    "print('R-squared for the testing',r2_score(df_y_test, df_y_pred_test))\n",
    "\n"
   ]
  },
  {
   "cell_type": "markdown",
   "metadata": {},
   "source": [
    "### Random Forest "
   ]
  },
  {
   "cell_type": "code",
   "execution_count": 42,
   "metadata": {},
   "outputs": [
    {
     "name": "stdout",
     "output_type": "stream",
     "text": [
      "R-squared for the training 0.60159974014\n",
      "R-squared for the testing 0.523094430488\n"
     ]
    }
   ],
   "source": [
    "from sklearn.ensemble import RandomForestRegressor\n",
    "from sklearn.datasets import make_regression\n",
    "\n",
    "regr = RandomForestRegressor(max_depth=8, random_state=0)\n",
    "regr.fit(df_X_train, df_y_train)\n",
    "# Make predictions using the testing set\n",
    "df_y_pred_train = regr.predict(df_X_train)\n",
    "\n",
    "df_y_pred_test = regr.predict(df_X_test)\n",
    "\n",
    "print('R-squared for the training',r2_score(df_y_train, df_y_pred_train))  #R^2 (coefficient of determination) regression score function.\n",
    "print('R-squared for the testing',r2_score(df_y_test, df_y_pred_test))  #R^2 (coefficient of determination) regression score function.\n"
   ]
  },
  {
   "cell_type": "markdown",
   "metadata": {},
   "source": [
    "### Apply Random forest over various sample sizes"
   ]
  },
  {
   "cell_type": "code",
   "execution_count": 53,
   "metadata": {
    "scrolled": true
   },
   "outputs": [
    {
     "data": {
      "text/plain": [
       "<matplotlib.legend.Legend at 0x1c1a234b00>"
      ]
     },
     "execution_count": 53,
     "metadata": {},
     "output_type": "execute_result"
    },
    {
     "data": {
      "image/png": "[encoded data removed]",
      "text/plain": [
       "<matplotlib.figure.Figure at 0x10d2db2e8>"
      ]
     },
     "metadata": {},
     "output_type": "display_data"
    }
   ],
   "source": [
    "\n",
    "\n",
    "from sklearn.ensemble import RandomForestRegressor\n",
    "from sklearn.datasets import make_regression\n",
    "\n",
    "regr = RandomForestRegressor(max_depth=6, random_state=0)\n",
    "\n",
    "sample=[]\n",
    "list1=[]\n",
    "list2=[]\n",
    "\n",
    "l=len(df_X_train)\n",
    "for i in range(10,len(df_X_train),10):\n",
    "    df_X1_train=df_X_train[0:i]  \n",
    "    df_y1_train=df_y_train[0:i] \n",
    "    # Train the model using the training sets\n",
    "    regr.fit(df_X1_train, df_y1_train)\n",
    "    # Make predictions using the testing set\n",
    "    df_y1_pred_train = regr.predict(df_X1_train)\n",
    "    R2train=r2_score(df_y1_train, df_y1_pred_train)\n",
    "    #print('R^2 for the training',r2_score(df_y1_train, df_y1_pred_train))\n",
    "    list1.append(R2train)\n",
    "    df_y_pred_test = regr.predict(df_X_test)\n",
    "    sample.append(i)\n",
    "    #print('R^2 for the testing',r2_score(df_y_test, df_y_pred_test))\n",
    "    R2test=r2_score(df_y_test, df_y_pred_test)\n",
    "    list2.append(R2test)\n",
    "\n",
    "plt.ylabel('Performance')\n",
    "plt.xlabel('Sample Size')\n",
    " \n",
    "plt.plot(sample,list1, '-b', label='test')\n",
    "plt.plot(sample,list2, '-r', label='train')\n",
    "plt.title('Performance against Sample size for Random Forest')\n",
    "plt.legend()"
   ]
  },
  {
   "cell_type": "markdown",
   "metadata": {},
   "source": [
    "### Taking 7000 samples - the best value from the above graph"
   ]
  },
  {
   "cell_type": "code",
   "execution_count": 60,
   "metadata": {},
   "outputs": [
    {
     "name": "stdout",
     "output_type": "stream",
     "text": [
      "R^2 for the training 0.60159974014\n",
      "R^2 for the testing 0.523094430488\n"
     ]
    }
   ],
   "source": [
    "\n",
    "from sklearn.ensemble import RandomForestRegressor\n",
    "from sklearn.datasets import make_regression\n",
    "\n",
    "regr = RandomForestRegressor(max_depth=8, random_state=0)\n",
    "\n",
    "df_X1_train=df_X_train[0:7000]  \n",
    "df_y1_train=df_y_train[0:7000] \n",
    "#print(df_X1_train,df_y1_train) \n",
    "# Train the model using the training sets\n",
    "regr.fit(df_X1_train, df_y1_train)\n",
    "# Make predictions using the testing set\n",
    "df_y1_pred_train = regr.predict(df_X1_train)\n",
    "R2train=r2_score(df_y1_train, df_y1_pred_train)\n",
    "print('R^2 for the training',r2_score(df_y1_train, df_y1_pred_train))\n",
    "\n",
    "df_y_pred_test = regr.predict(df_X_test)\n",
    "print('R^2 for the testing',r2_score(df_y_test, df_y_pred_test))\n"
   ]
  },
  {
   "cell_type": "markdown",
   "metadata": {},
   "source": [
    "### Applying gridSearch to the best value sample  "
   ]
  },
  {
   "cell_type": "code",
   "execution_count": 61,
   "metadata": {
    "scrolled": false
   },
   "outputs": [
    {
     "name": "stdout",
     "output_type": "stream",
     "text": [
      "Best params {'max_depth': 10, 'min_samples_leaf': 4, 'n_estimators': 54}\n"
     ]
    }
   ],
   "source": [
    "#Applying gridSearch to the best value sample # taking quite some time\n",
    "from sklearn.grid_search import GridSearchCV\n",
    " \n",
    "regr = RandomForestRegressor(max_depth=8, random_state=0) \n",
    " \n",
    "# Use a grid over parameters of interest\n",
    "param_grid = { \n",
    "           \"n_estimators\" : [9, 18, 27, 36, 45, 54, 63],\n",
    "           \"max_depth\" : [1, 5, 10, 15, 20, 25, 30],\n",
    "           \"min_samples_leaf\" : [1, 2, 4, 6, 8, 10]}\n",
    " \n",
    "CV_regr = GridSearchCV(estimator=regr, param_grid=param_grid, cv= 10)\n",
    "CV_regr.fit(df_X1_train, df_y1_train)\n",
    "print('Best params',CV_regr.best_params_)\n",
    "\n"
   ]
  },
  {
   "cell_type": "markdown",
   "metadata": {},
   "source": [
    "### Nearest neighbours"
   ]
  },
  {
   "cell_type": "code",
   "execution_count": 57,
   "metadata": {},
   "outputs": [
    {
     "name": "stdout",
     "output_type": "stream",
     "text": [
      "R^2 for the training 0.343041163485\n",
      "R^2 for the testing 0.287156831602\n",
      "(9621, 47)\n"
     ]
    }
   ],
   "source": [
    "\n",
    " \n",
    "from sklearn.neighbors import NearestNeighbors\n",
    "from sklearn import neighbors\n",
    " \n",
    "\n",
    "clf = neighbors.KNeighborsRegressor(n_neighbors=20)\n",
    "\n",
    "# Train the model using the training sets\n",
    "clf.fit(df_X_train, df_y_train)\n",
    "\n",
    "# Make predictions using the testing set\n",
    "df_y_pred_train = clf.predict(df_X_train)\n",
    "\n",
    "df_y_pred_test = clf.predict(df_X_test)\n",
    "\n",
    "print('R Squared for the training',r2_score(df_y_train, df_y_pred_train))  #R^2 (coefficient of determination) regression score function.\n",
    "print('R Squared for the testing',r2_score(df_y_test, df_y_pred_test))  #R^2 (coefficient of determination) regression score function.\n",
    "print(X_all.shape)"
   ]
  },
  {
   "cell_type": "markdown",
   "metadata": {},
   "source": [
    "### Apply Nearest neighbours over various sample sizes"
   ]
  },
  {
   "cell_type": "code",
   "execution_count": 59,
   "metadata": {},
   "outputs": [
    {
     "data": {
      "text/plain": [
       "<matplotlib.legend.Legend at 0x1c1a37cdd8>"
      ]
     },
     "execution_count": 59,
     "metadata": {},
     "output_type": "execute_result"
    },
    {
     "data": {
      "image/png": "[encoded data removed]",
      "text/plain": [
       "<matplotlib.figure.Figure at 0x1c1a585048>"
      ]
     },
     "metadata": {},
     "output_type": "display_data"
    }
   ],
   "source": [
    "from sklearn.neighbors import NearestNeighbors\n",
    "from sklearn import neighbors\n",
    " \n",
    "regr = neighbors.KNeighborsRegressor(n_neighbors=30)\n",
    "\n",
    "sample=[]\n",
    "list1=[]\n",
    "list2=[]\n",
    "\n",
    "l=len(df_X_train)\n",
    "for i in range(30,len(df_X_train),30):\n",
    "    df_X1_train=df_X_train[0:i]  \n",
    "    df_y1_train=df_y_train[0:i] \n",
    "    # Train the model using the training sets\n",
    "    regr.fit(df_X1_train, df_y1_train)\n",
    "    # Make predictions using the testing set\n",
    "    df_y1_pred_train = regr.predict(df_X1_train)\n",
    "    R2train=r2_score(df_y1_train, df_y1_pred_train)\n",
    "    list1.append(R2train)\n",
    "    df_y_pred_test = regr.predict(df_X_test)\n",
    "    sample.append(i)\n",
    "    R2test=r2_score(df_y_test, df_y_pred_test)\n",
    "    list2.append(R2test)\n",
    "\n",
    "plt.plot(sample,list1,sample,list2)\n",
    "plt.ylabel('Performance')\n",
    "plt.xlabel('Sample Size')\n",
    "#plt.plot(sample,list1,sample,list2)\n",
    "plt.plot(sample,list1, '-b', label='test')\n",
    "plt.plot(sample,list2, '-r', label='train')\n",
    "plt.title('Performance against Sample size for K-NN Regression')\n",
    "plt.legend()"
   ]
  },
  {
   "cell_type": "markdown",
   "metadata": {},
   "source": [
    "### Conclusion : From the above plots and R2 values we see Random Forest is the best model in this case to predict the price of Airbnb rooms from the datasert we used."
   ]
  }
 ],
 "metadata": {
  "kernelspec": {
   "display_name": "Python 3",
   "language": "python",
   "name": "python3"
  },
  "language_info": {
   "codemirror_mode": {
    "name": "ipython",
    "version": 3
   },
   "file_extension": ".py",
   "mimetype": "text/x-python",
   "name": "python",
   "nbconvert_exporter": "python",
   "pygments_lexer": "ipython3",
   "version": "3.6.4"
  }
 },
 "nbformat": 4,
 "nbformat_minor": 2
}
